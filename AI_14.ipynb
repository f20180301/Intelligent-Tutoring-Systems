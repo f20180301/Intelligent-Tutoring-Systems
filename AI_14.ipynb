{
  "nbformat": 4,
  "nbformat_minor": 0,
  "metadata": {
    "colab": {
      "name": "AI_14.ipynb",
      "provenance": [],
      "collapsed_sections": []
    },
    "kernelspec": {
      "name": "python3",
      "display_name": "Python 3"
    },
    "language_info": {
      "name": "python"
    }
  },
  "cells": [
    {
      "cell_type": "code",
      "metadata": {
        "colab": {
          "base_uri": "https://localhost:8080/"
        },
        "id": "CUsnV4uanrMd",
        "outputId": "5cdd2f6d-3286-4d21-d37e-76ddbdb97edd"
      },
      "source": [
        "!pip install -r requirements.txt"
      ],
      "execution_count": 7,
      "outputs": [
        {
          "output_type": "stream",
          "name": "stdout",
          "text": [
            "Requirement already satisfied: sympy in /usr/local/lib/python3.7/dist-packages (from -r requirements.txt (line 1)) (1.7.1)\n",
            "Requirement already satisfied: numpy in /usr/local/lib/python3.7/dist-packages (from -r requirements.txt (line 2)) (1.19.5)\n",
            "Requirement already satisfied: pandas in /usr/local/lib/python3.7/dist-packages (from -r requirements.txt (line 3)) (1.1.5)\n",
            "Requirement already satisfied: scipy in /usr/local/lib/python3.7/dist-packages (from -r requirements.txt (line 4)) (1.4.1)\n",
            "Requirement already satisfied: mpmath>=0.19 in /usr/local/lib/python3.7/dist-packages (from sympy->-r requirements.txt (line 1)) (1.2.1)\n",
            "Requirement already satisfied: python-dateutil>=2.7.3 in /usr/local/lib/python3.7/dist-packages (from pandas->-r requirements.txt (line 3)) (2.8.2)\n",
            "Requirement already satisfied: pytz>=2017.2 in /usr/local/lib/python3.7/dist-packages (from pandas->-r requirements.txt (line 3)) (2018.9)\n",
            "Requirement already satisfied: six>=1.5 in /usr/local/lib/python3.7/dist-packages (from python-dateutil>=2.7.3->pandas->-r requirements.txt (line 3)) (1.15.0)\n"
          ]
        }
      ]
    },
    {
      "cell_type": "code",
      "metadata": {
        "id": "DwEy5O_nhbEx"
      },
      "source": [
        "from functions import *"
      ],
      "execution_count": 8,
      "outputs": []
    },
    {
      "cell_type": "code",
      "metadata": {
        "colab": {
          "base_uri": "https://localhost:8080/"
        },
        "id": "9JSWbQJatE6f",
        "outputId": "71cec391-4b2c-4e0f-af7b-9afcb0d07e27"
      },
      "source": [
        "tutor()"
      ],
      "execution_count": 11,
      "outputs": [
        {
          "name": "stdout",
          "output_type": "stream",
          "text": [
            "Are you an existing user? (Y/N) N\n",
            "Please input your name, age and academic class\n",
            "Name Rajat\n",
            "Age 12\n",
            "Academic Qualification/Class 4\n",
            "2 is your uniqueID.\n",
            "What do you want to do right now?\n",
            "0) Solve a question 1) Generate a report 2)Exit\n",
            "0\n",
            "Q) Ram recently visited his aunt's place in Mumbai during the monsoon season. He observed a lot of water can be conserved using Rainwater Harvesting. Mumbai receives on an average 5 litres/ day of rainfall.How many days will it take to fill a hundred Litre water tank which is already having 15 litres water stored.\n",
            "Enter the number of variables in the equation: 1\n",
            "You are correct!\n",
            "What is the object corresponding x: Days\n",
            "Great Keep Going.\n",
            "Enter the first equation: 5 * x + 15 = 100\n",
            "Great! Now moving onto solving the equations.\n",
            "Current Equation is: 5 * x + 15 = 100\n",
            "Now, we will try to simplify this Equation, inorder to reach towards the solution\n",
            "Please choose among the following options:\n",
            "0: Try solving the question\n",
            "1: Please give hint\n",
            "2: Help me with the next step\n",
            "3: Give me the entire solution\n",
            "4: I want to quit.\n",
            "Enter Your Choice : 3\n",
            "Initial Equation:   5 * x + 15 = 100\n",
            "Next Step:   5*x=0*x+85.0\n",
            "Next Step:   x=17.0\n",
            "Based on the above situation answer this social value based question.\n",
            "Q) Which among the following can help to reduce domestic water wastage?\n",
            "A) Closing and reparing the leaking taps B) Not having a bath regularly C)Using shower instaed of buckets D)Using sprinklers to water plants\n",
            "Please enter the correct option(s): A,D\n",
            "\n",
            "You have successfully solved the question\n",
            "\n",
            "\n",
            "\n",
            "\n",
            "Current Question Stats: \n",
            "Time taken for Question: 26.388552\n",
            " seconds Hint Level1: 0\n",
            " Hint Level2: 0\n",
            " Hint Level3: 1\n",
            "\n",
            "Steps: 0\n",
            " Solved: Yes\n",
            " currentScore: 59\n",
            "\n",
            "What do you want to do right now?\n",
            "0) Solve a question 1) Generate a report 2)Exit\n",
            "1\n",
            "\n",
            "\n",
            "\n",
            "Name:Rajat\n",
            " Age: 12\n",
            " Class: 4\n",
            " Unique ID: 2\n",
            "\n",
            "Current Level: 1 Current Social Value Level: 1\n",
            "\n",
            "\n",
            "\n",
            "Past Questions Stats:\n",
            "\n",
            "Avg. Time per Question: 26.388552seconds\n",
            "Avg. Hint Level1: 0\n",
            "Avg. int Level2: 0\n",
            "Avg. Hint Level3: 1\n",
            "\n",
            "Avg. Steps: 0\n",
            "Avg. Number of Times Solved: 1.0\n",
            "Past Score: 59\n",
            "\n",
            "What do you want to do right now?\n",
            "0) Solve a question 1) Generate a report 2)Exit\n",
            "2\n"
          ]
        }
      ]
    },
    {
      "cell_type": "code",
      "metadata": {
        "id": "HhsraDZCvXKg"
      },
      "source": [
        ""
      ],
      "execution_count": null,
      "outputs": []
    }
  ]
}